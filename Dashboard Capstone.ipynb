{
    "cells": [
        {
            "cell_type": "code",
            "execution_count": null,
            "metadata": {
                "scrolled": true
            },
            "outputs": [],
            "source": "# Import required libraries\nimport pandas as pd\nimport dash\nimport dash_html_components as html\nimport dash_core_components as dcc\nfrom dash.dependencies import Input, Output\nimport plotly.express as px\n\n# Read the airline data into pandas dataframe\nspacex_df = pd.read_csv(\"spacex_launch_dash.csv\")\nmax_payload = spacex_df['Payload Mass (kg)'].max()\nmin_payload = spacex_df['Payload Mass (kg)'].min()\n\n# Create a dash application\napp = dash.Dash(__name__)\n\nspacex_df.rename(columns={'Launch Site': 'Launch_Site', 'Payload Mass (kg)':'Payload_Mass'}, inplace=True)\n# Create an app layout\napp.layout = html.Div(children=[html.H1('SpaceX Launch Records Dashboard',\n                                        style={'textAlign': 'center', 'color': '#503D36',\n                                               'font-size': 40}),\n                                # TASK 1: Add a dropdown list to enable Launch Site selection\n                                # The default select value is for ALL sites\n                                dcc.Dropdown(id='site-dropdown',options=[{'label': 'All Sites', 'value': 'ALL'},\n                                            {'label': 'CCAFS LC-40', 'value': 'CCAFS LC-40'},\n                                            {'label': 'CCAFS SLC-40', 'value': 'CCAFS SLC-40'},\n                                            {'label': 'KSC LC-39A', 'value': 'KSC LC-39A'},\n                                            {'label': 'VAFB SLC-4E', 'value': 'VAFB SLC-4E'}\n                                            ],value='ALL',\n                                            placeholder=\"Select a Launch Site Here\",\n                                            searchable=True\n                                            ),\n                                html.Br(),\n\n                                # TASK 2: Add a pie chart to show the total successful launches count for all sites\n                                # If a specific launch site was selected, show the Success vs. Failed counts for the site\n                                # Function decorator to specify function input and output\n                                html.Div(dcc.Graph(id='success-pie-chart')),\n                                html.Br(),         \n                                html.P(\"Payload range (Kg):\"),\n                                # TASK 3: Add a slider to select payload range\n                                #dcc.RangeSlider(id='payload-slider',...)\n                                dcc.RangeSlider(id='payload-slider',\n                                    min=0, max=10000, step=1000,\n                                    marks={0: '0', 100: '100'},\n                                    value=[min_payload, max_payload],\n                                    marks={0: '0 kg',\n                                        2500: '2500',\n                                        5000: '5000',\n                                        7500: '7500',\n                                        10000: '10000'\n                                        }\n                                ),\n                                html.Div(id='payload-slider'),\n                                # TASK 4: Add a scatter chart to show the correlation between payload and launch success\n                                html.Div(dcc.Graph(id='success-payload-scatter-chart')),\n                                ])\n\n# TASK 2:\n\n# Add a callback function for `site-dropdown` as input, `success-pie-chart` as output\n@app.callback(Output(component_id='success-pie-chart', component_property='figure'),\n            Input(component_id='site-dropdown', component_property='value'))\n\ndef get_pie_chart(entered_site):\n    if entered_site == 'ALL':\n        filtered_df = spacex_df[spacex_df['class']=='1'] \n        pie_fig = px.pie(filtered_df, values='class',textinfo='percent', \n            names='Launch_Site', \n            title='Total Success Launches by Site')\n        return pie_fig\n    else:# return the outcomes piechart for a selected site\n        new_df=spacex_df[spacex_df[\"Launch_Site\"]== entered_site]\n        pie_fig = px.pie(new_df, values='class', \n            names='class', \n            title='Success Rate for'+ entered_site)\n        return pie_fig\n\nsuccess-pie-chart=pie_fig\n\n# TASK 4:\n# Add a callback function for `site-dropdown` and `payload-slider` as inputs, `success-payload-scatter-chart` as output\n@app.callback(\n    Output(\"success-payload-scatter-chart\", \"figure\"),\n    [Input(\"payload-slider\", \"value\"), \n    Input(\"site-dropdown\",\"value\")])\ndef get_scatter_chart (entered_site):\n    filtered_df = spacex_df[spacex_df['class']==('1')] \n    if entered_site == 'ALL':\n        scat_fig = px.scatter(\n        filtered_df, x=\"Payload_Mass\", y=\"class\",\n        color=\"Booster Version Category\")\n        return scat_fig\n    else:\n        new_df=spacex_df[spacex_df[\"Launch_Site\"]== entered_site]\n        scat_fig = px.scatter(\n        new_df, x=\"Payload_Mass\", y=\"class\",\n        color=\"Booster Version Category\")\n        return scat_fig\n\nsuccess-payload-scatter-chart=scat_fig\n\n# Run the app\nif __name__ == '__main__':\n    app.run_server()"
        },
        {
            "cell_type": "code",
            "execution_count": null,
            "metadata": {},
            "outputs": [],
            "source": ""
        },
        {
            "cell_type": "code",
            "execution_count": null,
            "metadata": {},
            "outputs": [],
            "source": ""
        },
        {
            "cell_type": "code",
            "execution_count": null,
            "metadata": {},
            "outputs": [],
            "source": ""
        },
        {
            "cell_type": "code",
            "execution_count": null,
            "metadata": {},
            "outputs": [],
            "source": ""
        }
    ],
    "metadata": {
        "kernelspec": {
            "display_name": "Python 3.8",
            "language": "python",
            "name": "python3"
        },
        "language_info": {
            "codemirror_mode": {
                "name": "ipython",
                "version": 3
            },
            "file_extension": ".py",
            "mimetype": "text/x-python",
            "name": "python",
            "nbconvert_exporter": "python",
            "pygments_lexer": "ipython3",
            "version": "3.8.12"
        }
    },
    "nbformat": 4,
    "nbformat_minor": 1
}